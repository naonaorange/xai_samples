{
 "cells": [
  {
   "cell_type": "markdown",
   "id": "e3e282f4-7b8c-4533-9fb1-435d6cc33371",
   "metadata": {},
   "source": [
    "# SHAPによるiris分類モデルの可視化"
   ]
  },
  {
   "cell_type": "code",
   "execution_count": 1,
   "id": "8b3e7c37-5b74-4bb0-9105-f1cb22f86fd5",
   "metadata": {},
   "outputs": [],
   "source": [
    "import sklearn\n",
    "import numpy as np\n",
    "import pandas as pd\n",
    "import matplotlib.pyplot as plt"
   ]
  },
  {
   "cell_type": "markdown",
   "id": "0497fef2-6951-407a-aa5a-55ec311c4118",
   "metadata": {},
   "source": [
    "# データセットの取得"
   ]
  },
  {
   "cell_type": "code",
   "execution_count": 2,
   "id": "66eb4e93-9db6-4ee4-8a94-9c908048c962",
   "metadata": {},
   "outputs": [
    {
     "name": "stdout",
     "output_type": "stream",
     "text": [
      "データセット内容の種類\n",
      "dict_keys(['data', 'target', 'frame', 'target_names', 'DESCR', 'feature_names', 'filename', 'data_module'])\n",
      "特徴量の種類\n",
      "['sepal length (cm)', 'sepal width (cm)', 'petal length (cm)', 'petal width (cm)']\n",
      "ラベルの種類\n",
      "['versicolor' 'virginica']\n",
      "X_train.shape =  (80, 4)\n",
      "y_train.shape =  (80,)\n",
      "X_test.shape =  (20, 4)\n",
      "y_test.shape =  (20,)\n"
     ]
    }
   ],
   "source": [
    "from sklearn.datasets import load_iris\n",
    "\n",
    "iris = load_iris()\n",
    "X = iris.data\n",
    "y = iris.target\n",
    "feature_names = iris['feature_names']\n",
    "target_names = iris.target_names\n",
    "\n",
    "#2項分類のサンプルにするためsetosaを削除する\n",
    "X = X[y != 0]\n",
    "y = y[y != 0]\n",
    "y = y -1\n",
    "target_names = target_names[1:]\n",
    "\n",
    "print(\"データセット内容の種類\")\n",
    "print(iris.keys())\n",
    "print(\"特徴量の種類\")\n",
    "print(iris['feature_names'])\n",
    "print(\"ラベルの種類\")\n",
    "print(target_names)\n",
    "\n",
    "from sklearn.model_selection import train_test_split\n",
    "X_train, X_test, y_train, y_test = train_test_split(X, y, test_size=0.2, random_state=42)\n",
    "\n",
    "print('X_train.shape = ', X_train.shape)\n",
    "print('y_train.shape = ', y_train.shape)\n",
    "print('X_test.shape = ', X_test.shape)\n",
    "print('y_test.shape = ', y_test.shape)"
   ]
  },
  {
   "cell_type": "markdown",
   "id": "c9826a40-b05b-4449-8049-af610140bb9c",
   "metadata": {},
   "source": [
    "# モデルの学習と評価"
   ]
  },
  {
   "cell_type": "code",
   "execution_count": 3,
   "id": "687ce826-102b-4f77-81a8-fbae8fd6188d",
   "metadata": {},
   "outputs": [
    {
     "data": {
      "text/plain": [
       "0.95"
      ]
     },
     "execution_count": 3,
     "metadata": {},
     "output_type": "execute_result"
    }
   ],
   "source": [
    "from sklearn.ensemble import RandomForestClassifier\n",
    "from sklearn.metrics import accuracy_score\n",
    "\n",
    "model = sklearn.ensemble.RandomForestClassifier(n_estimators=2, max_depth = 3, random_state=2)\n",
    "model.fit(X_train, y_train)\n",
    "\n",
    "accuracy_score(y_test, model.predict(X_test))"
   ]
  },
  {
   "cell_type": "markdown",
   "id": "6eb9f878-63a5-4d9c-a8d0-bf72ee7f9696",
   "metadata": {},
   "source": [
    "# テストデータの確認"
   ]
  },
  {
   "cell_type": "code",
   "execution_count": 4,
   "id": "62f67d8b-f200-4d8c-994b-5eaa9d2660e9",
   "metadata": {},
   "outputs": [
    {
     "name": "stdout",
     "output_type": "stream",
     "text": [
      "target name = virginica\n"
     ]
    },
    {
     "data": {
      "text/html": [
       "<div>\n",
       "<style scoped>\n",
       "    .dataframe tbody tr th:only-of-type {\n",
       "        vertical-align: middle;\n",
       "    }\n",
       "\n",
       "    .dataframe tbody tr th {\n",
       "        vertical-align: top;\n",
       "    }\n",
       "\n",
       "    .dataframe thead th {\n",
       "        text-align: right;\n",
       "    }\n",
       "</style>\n",
       "<table border=\"1\" class=\"dataframe\">\n",
       "  <thead>\n",
       "    <tr style=\"text-align: right;\">\n",
       "      <th></th>\n",
       "      <th>sepal length (cm)</th>\n",
       "      <th>sepal width (cm)</th>\n",
       "      <th>petal length (cm)</th>\n",
       "      <th>petal width (cm)</th>\n",
       "    </tr>\n",
       "  </thead>\n",
       "  <tbody>\n",
       "    <tr>\n",
       "      <th>0</th>\n",
       "      <td>6.3</td>\n",
       "      <td>2.9</td>\n",
       "      <td>5.6</td>\n",
       "      <td>1.8</td>\n",
       "    </tr>\n",
       "  </tbody>\n",
       "</table>\n",
       "</div>"
      ],
      "text/plain": [
       "   sepal length (cm)  sepal width (cm)  petal length (cm)  petal width (cm)\n",
       "0                6.3               2.9                5.6               1.8"
      ]
     },
     "execution_count": 4,
     "metadata": {},
     "output_type": "execute_result"
    }
   ],
   "source": [
    "data_index = 1\n",
    "y_index = y_test[data_index]\n",
    "print('target name = ' + target_names[y_index])\n",
    "pd.DataFrame([X_test[data_index]], columns=feature_names)"
   ]
  },
  {
   "cell_type": "code",
   "execution_count": 5,
   "id": "058ed317-c521-46d7-8323-5b52c7081407",
   "metadata": {},
   "outputs": [],
   "source": [
    "X_train_dataframe = pd.DataFrame(X_train, columns=iris.feature_names)\n",
    "\n",
    "y_label = []\n",
    "for i in y_train:\n",
    "    y_label.append(target_names[i])\n",
    "y_train_dataframe = pd.DataFrame(y_label, columns=['result'])\n",
    "\n",
    "train_dataframe = pd.concat([X_train_dataframe, y_train_dataframe], axis=1)"
   ]
  },
  {
   "cell_type": "code",
   "execution_count": 6,
   "id": "f54e3e11-471c-471c-b5e8-9c8cd8252d43",
   "metadata": {},
   "outputs": [
    {
     "data": {
      "image/png": "[encoded data removed]",
      "text/plain": [
       "<Figure size 1080x720 with 4 Axes>"
      ]
     },
     "metadata": {
      "needs_background": "light"
     },
     "output_type": "display_data"
    }
   ],
   "source": [
    "import seaborn as sns\n",
    "\n",
    "fig = plt.figure(figsize=[15,10])\n",
    "for i, f in enumerate(iris['feature_names']):\n",
    "    fig.add_subplot(2, 2, i+1)\n",
    "    sns.barplot(y=f, x='result', data= train_dataframe)"
   ]
  },
  {
   "cell_type": "markdown",
   "id": "7d8705d9-513c-4a3d-861d-8eb934e0d30b",
   "metadata": {},
   "source": [
    "# SHAPによるモデルの可視化"
   ]
  },
  {
   "cell_type": "code",
   "execution_count": 7,
   "id": "d0abc01c-451a-45a7-8f02-75579edaf2f4",
   "metadata": {},
   "outputs": [
    {
     "name": "stdout",
     "output_type": "stream",
     "text": [
      "exp.expected_value.shape =  (2,)\n",
      "shap_values.shape =  (20, 4)\n",
      "X_test.shape =  (20, 4)\n",
      "\n",
      "exp.expected_value =  [0.54375 0.45625]\n",
      "shap_values =  [-0.00625     0.00803571  0.13883929  0.403125  ]\n",
      "X_test =  [6.3 2.9 5.6 1.8]\n"
     ]
    }
   ],
   "source": [
    "import shap\n",
    "\n",
    "exp = shap.TreeExplainer(model)\n",
    "shap_values = exp.shap_values(X_test)\n",
    "#shap_values = shap_values[y_index]\n",
    "\n",
    "print('exp.expected_value.shape = ', exp.expected_value.shape)\n",
    "print('shap_values.shape = ', shap_values[y_index].shape)\n",
    "print('X_test.shape = ', X_test.shape)\n",
    "print('')\n",
    "print('exp.expected_value = ', exp.expected_value)\n",
    "print('shap_values = ', shap_values[y_index][data_index])\n",
    "print('X_test = ', X_test[data_index])"
   ]
  },
  {
   "cell_type": "markdown",
   "id": "0edbfc7d-0a57-46ea-8d24-a32fb28bfef0",
   "metadata": {},
   "source": [
    "## 各特徴量の重要度合いを可視化\n",
    "\n",
    "各特徴量が分類にどの程度重要な役割を果たしているのかを確認する\n",
    "\n",
    "SHAP値の値の大きさが指標になる"
   ]
  },
  {
   "cell_type": "code",
   "execution_count": 13,
   "id": "f872d6c0-ec29-45aa-957e-e5d17b1ff19d",
   "metadata": {},
   "outputs": [
    {
     "data": {
      "image/png": "[encoded data removed]",
      "text/plain": [
       "<Figure size 576x223.2 with 1 Axes>"
      ]
     },
     "metadata": {
      "needs_background": "light"
     },
     "output_type": "display_data"
    }
   ],
   "source": [
    "shap.summary_plot(shap_values=shap_values,\n",
    "                  features=X_test,\n",
    "                  feature_names=feature_names,\n",
    "                  class_names=target_names)"
   ]
  },
  {
   "cell_type": "code",
   "execution_count": null,
   "id": "8ff862f2-5dea-48fa-8b02-93615329ee12",
   "metadata": {},
   "outputs": [],
   "source": []
  },
  {
   "cell_type": "code",
   "execution_count": 9,
   "id": "ebb4d793-03d3-488c-99e1-b12603f2c1fa",
   "metadata": {},
   "outputs": [
    {
     "data": {
      "image/png": "[encoded data removed]",
      "text/plain": [
       "<Figure size 576x223.2 with 1 Axes>"
      ]
     },
     "metadata": {
      "needs_background": "light"
     },
     "output_type": "display_data"
    }
   ],
   "source": [
    "shap.summary_plot(shap_values=shap_values,\n",
    "                  features=X_test,\n",
    "                  feature_names=feature_names,\n",
    "                  plot_type=\"bar\")"
   ]
  },
  {
   "cell_type": "code",
   "execution_count": 10,
   "id": "3f6c7539-a313-4f64-9f5e-397e851a5962",
   "metadata": {},
   "outputs": [
    {
     "ename": "Exception",
     "evalue": "matplotlib = True is not yet supported for force plots with multiple samples!",
     "output_type": "error",
     "traceback": [
      "\u001b[1;31m---------------------------------------------------------------------------\u001b[0m",
      "\u001b[1;31mException\u001b[0m                                 Traceback (most recent call last)",
      "\u001b[1;32mC:\\Users\\ALJP1B~2\\AppData\\Local\\Temp/ipykernel_2848/2767559652.py\u001b[0m in \u001b[0;36m<module>\u001b[1;34m\u001b[0m\n\u001b[1;32m----> 1\u001b[1;33m shap.force_plot(base_value=exp.expected_value[1],\n\u001b[0m\u001b[0;32m      2\u001b[0m                 \u001b[0mshap_values\u001b[0m\u001b[1;33m=\u001b[0m\u001b[0mexp\u001b[0m\u001b[1;33m.\u001b[0m\u001b[0mshap_values\u001b[0m\u001b[1;33m(\u001b[0m\u001b[0mX_test\u001b[0m\u001b[1;33m)\u001b[0m\u001b[1;33m[\u001b[0m\u001b[1;36m1\u001b[0m\u001b[1;33m]\u001b[0m\u001b[1;33m,\u001b[0m\u001b[1;33m\u001b[0m\u001b[1;33m\u001b[0m\u001b[0m\n\u001b[0;32m      3\u001b[0m                 matplotlib=True)\n",
      "\u001b[1;32m~\\Documents\\GitHub\\xai_samples\\.venv\\lib\\site-packages\\shap\\plots\\_force.py\u001b[0m in \u001b[0;36mforce\u001b[1;34m(base_value, shap_values, features, feature_names, out_names, link, plot_cmap, matplotlib, show, figsize, ordering_keys, ordering_keys_time_format, text_rotation, contribution_threshold)\u001b[0m\n\u001b[0;32m    172\u001b[0m     \u001b[1;32melse\u001b[0m\u001b[1;33m:\u001b[0m\u001b[1;33m\u001b[0m\u001b[1;33m\u001b[0m\u001b[0m\n\u001b[0;32m    173\u001b[0m         \u001b[1;32mif\u001b[0m \u001b[0mmatplotlib\u001b[0m\u001b[1;33m:\u001b[0m\u001b[1;33m\u001b[0m\u001b[1;33m\u001b[0m\u001b[0m\n\u001b[1;32m--> 174\u001b[1;33m             \u001b[1;32mraise\u001b[0m \u001b[0mException\u001b[0m\u001b[1;33m(\u001b[0m\u001b[1;34m\"matplotlib = True is not yet supported for force plots with multiple samples!\"\u001b[0m\u001b[1;33m)\u001b[0m\u001b[1;33m\u001b[0m\u001b[1;33m\u001b[0m\u001b[0m\n\u001b[0m\u001b[0;32m    175\u001b[0m \u001b[1;33m\u001b[0m\u001b[0m\n\u001b[0;32m    176\u001b[0m         \u001b[1;32mif\u001b[0m \u001b[0mshap_values\u001b[0m\u001b[1;33m.\u001b[0m\u001b[0mshape\u001b[0m\u001b[1;33m[\u001b[0m\u001b[1;36m0\u001b[0m\u001b[1;33m]\u001b[0m \u001b[1;33m>\u001b[0m \u001b[1;36m3000\u001b[0m\u001b[1;33m:\u001b[0m\u001b[1;33m\u001b[0m\u001b[1;33m\u001b[0m\u001b[0m\n",
      "\u001b[1;31mException\u001b[0m: matplotlib = True is not yet supported for force plots with multiple samples!"
     ]
    }
   ],
   "source": [
    "shap.force_plot(base_value=exp.expected_value[1],\n",
    "                shap_values=exp.shap_values(X_test)[1],\n",
    "                matplotlib=True)"
   ]
  },
  {
   "cell_type": "code",
   "execution_count": null,
   "id": "6a1b3f77-9662-46bd-9006-5755324b335d",
   "metadata": {},
   "outputs": [],
   "source": [
    "shap.force_plot(base_value=exp.expected_value,\n",
    "                shap_values=shap_values, \n",
    "                features=X_test[0],\n",
    "                feature_names=feature_names,\n",
    "                matplotlib=True)"
   ]
  },
  {
   "cell_type": "code",
   "execution_count": null,
   "id": "d676bf45-ed3b-47de-8d23-66b68fca5423",
   "metadata": {},
   "outputs": [],
   "source": [
    "shap_values"
   ]
  },
  {
   "cell_type": "code",
   "execution_count": null,
   "id": "b8eba2b4-4cd7-4b16-9d2f-7dbfc94ba18c",
   "metadata": {},
   "outputs": [],
   "source": [
    "shap.plots.waterfall(shap_values[1])"
   ]
  },
  {
   "cell_type": "code",
   "execution_count": null,
   "id": "af9a3c9b-71d5-4267-baae-eed965dfc375",
   "metadata": {},
   "outputs": [],
   "source": [
    "exp.expected_value"
   ]
  },
  {
   "cell_type": "code",
   "execution_count": null,
   "id": "5d71852c-95e3-4176-a657-b3080f20660b",
   "metadata": {},
   "outputs": [],
   "source": [
    "shap_values"
   ]
  },
  {
   "cell_type": "code",
   "execution_count": null,
   "id": "7005182d-c0e1-4702-b9f4-04b0ceac3363",
   "metadata": {},
   "outputs": [],
   "source": [
    "shap.summary_plot(shap_values, X, plot_type=\"bar\")"
   ]
  },
  {
   "cell_type": "code",
   "execution_count": null,
   "id": "7f5ab721-90ca-477b-ace7-1b2a273f0970",
   "metadata": {},
   "outputs": [],
   "source": [
    "shap.force_plot(base_value=exp.expected_value[1],\n",
    "                shap_values=sv_test[0], \n",
    "                features=X_test[0],\n",
    "                feature_names=feature_names,\n",
    "                matplotlib=True)"
   ]
  },
  {
   "cell_type": "code",
   "execution_count": null,
   "id": "d12d1b90-1e50-42b1-924b-abaa5a6907a5",
   "metadata": {},
   "outputs": [],
   "source": [
    "shap.decision_plot(base_value=exp.expected_value[1],\n",
    "                shap_values=sv_test[0], \n",
    "                features=X_test[0],\n",
    "                feature_names=feature_names)"
   ]
  },
  {
   "cell_type": "code",
   "execution_count": null,
   "id": "37fa45b7-11ed-4a76-a16e-f88cae4f63d5",
   "metadata": {},
   "outputs": [],
   "source": []
  }
 ],
 "metadata": {
  "kernelspec": {
   "display_name": "Python 3 (ipykernel)",
   "language": "python",
   "name": "python3"
  },
  "language_info": {
   "codemirror_mode": {
    "name": "ipython",
    "version": 3
   },
   "file_extension": ".py",
   "mimetype": "text/x-python",
   "name": "python",
   "nbconvert_exporter": "python",
   "pygments_lexer": "ipython3",
   "version": "3.8.8"
  }
 },
 "nbformat": 4,
 "nbformat_minor": 5
}
