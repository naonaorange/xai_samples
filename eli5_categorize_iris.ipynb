{
 "cells": [
  {
   "cell_type": "code",
   "execution_count": null,
   "id": "50520dc2-e6a3-419b-8c0c-46d3d8a8ed1d",
   "metadata": {},
   "outputs": [],
   "source": []
  },
  {
   "cell_type": "code",
   "execution_count": 1,
   "id": "93516bf8-0918-43dd-9deb-7e2c342ce25c",
   "metadata": {},
   "outputs": [],
   "source": [
    "import sklearn\n",
    "import numpy as np\n",
    "import pandas as pd\n",
    "import matplotlib.pyplot as plt"
   ]
  },
  {
   "cell_type": "code",
   "execution_count": 2,
   "id": "34e65d74-f88b-4818-bd04-9fd76b8865c9",
   "metadata": {},
   "outputs": [
    {
     "name": "stdout",
     "output_type": "stream",
     "text": [
      "データセット内容の種類\n",
      "dict_keys(['data', 'target', 'frame', 'target_names', 'DESCR', 'feature_names', 'filename', 'data_module'])\n",
      "特徴量の種類\n",
      "['sepal length (cm)', 'sepal width (cm)', 'petal length (cm)', 'petal width (cm)']\n",
      "ラベルの種類\n",
      "['setosa' 'versicolor' 'virginica']\n",
      "X_train.shape =  (120, 4)\n",
      "y_train.shape =  (120,)\n",
      "X_test.shape =  (30, 4)\n",
      "y_test.shape =  (30,)\n"
     ]
    }
   ],
   "source": [
    "from sklearn.datasets import load_iris\n",
    "\n",
    "iris = load_iris()\n",
    "X = iris.data\n",
    "y = iris.target\n",
    "feature_names = iris['feature_names']\n",
    "target_names = iris.target_names\n",
    "\n",
    "#2項分類のサンプルにするためsetosaを削除する\n",
    "#X = X[y != 0]\n",
    "#y = y[y != 0]\n",
    "#y = y -1\n",
    "#target_names = target_names[1:]\n",
    "\n",
    "print(\"データセット内容の種類\")\n",
    "print(iris.keys())\n",
    "print(\"特徴量の種類\")\n",
    "print(iris['feature_names'])\n",
    "print(\"ラベルの種類\")\n",
    "print(target_names)\n",
    "\n",
    "from sklearn.model_selection import train_test_split\n",
    "X_train, X_test, y_train, y_test = train_test_split(X, y, test_size=0.2, random_state=42)\n",
    "\n",
    "print('X_train.shape = ', X_train.shape)\n",
    "print('y_train.shape = ', y_train.shape)\n",
    "print('X_test.shape = ', X_test.shape)\n",
    "print('y_test.shape = ', y_test.shape)"
   ]
  },
  {
   "cell_type": "code",
   "execution_count": 3,
   "id": "b9a34970-9356-4e89-83f2-78bc9e3b4f2a",
   "metadata": {},
   "outputs": [],
   "source": [
    "X_train_dataframe = pd.DataFrame(X_train, columns=feature_names)\n",
    "\n",
    "y_label = []\n",
    "for i in y_train:\n",
    "    y_label.append(target_names[i])\n",
    "y_train_dataframe = pd.DataFrame(y_label, columns=['result'])\n",
    "\n",
    "train_dataframe = pd.concat([X_train_dataframe, y_train_dataframe], axis=1)"
   ]
  },
  {
   "cell_type": "code",
   "execution_count": 4,
   "id": "9b97f32b-6fc8-4853-b5b7-ffc23e84b4a0",
   "metadata": {},
   "outputs": [
    {
     "data": {
      "image/png": "[encoded data removed]",
      "text/plain": [
       "<Figure size 1080x720 with 4 Axes>"
      ]
     },
     "metadata": {
      "needs_background": "light"
     },
     "output_type": "display_data"
    }
   ],
   "source": [
    "import seaborn as sns\n",
    "\n",
    "fig = plt.figure(figsize=[15,10])\n",
    "for i, f in enumerate(iris['feature_names']):\n",
    "    fig.add_subplot(2, 2, i+1)\n",
    "    sns.barplot(y=f, x='result', data= train_dataframe)"
   ]
  },
  {
   "cell_type": "code",
   "execution_count": 5,
   "id": "fc6deaec-e89e-4602-a001-a804d68d8d3c",
   "metadata": {},
   "outputs": [
    {
     "data": {
      "text/plain": [
       "1.0"
      ]
     },
     "execution_count": 5,
     "metadata": {},
     "output_type": "execute_result"
    }
   ],
   "source": [
    "from sklearn.svm import SVC\n",
    "from sklearn.metrics import accuracy_score\n",
    "\n",
    "model = SVC()\n",
    "model.fit(X_train, y_train)\n",
    "\n",
    "accuracy_score(y_test, model.predict(X_test))"
   ]
  },
  {
   "cell_type": "code",
   "execution_count": 6,
   "id": "e8eee255-fb9b-4f2c-8614-d46d51d90eb9",
   "metadata": {},
   "outputs": [],
   "source": [
    "#from sklearn.ensemble import RandomForestClassifier\n",
    "#from sklearn.metrics import accuracy_score\n",
    "\n",
    "#model = sklearn.ensemble.RandomForestClassifier(n_estimators=2, max_depth = 3, random_state=2)\n",
    "#model.fit(X_train, y_train)\n",
    "\n",
    "#accuracy_score(y_test, model.predict(X_test))"
   ]
  },
  {
   "cell_type": "code",
   "execution_count": 17,
   "id": "b1bc6926-fd48-4860-9129-e6a1cbf899df",
   "metadata": {},
   "outputs": [
    {
     "data": {
      "text/html": [
       "\n",
       "    <style>\n",
       "    table.eli5-weights tr:hover {\n",
       "        filter: brightness(85%);\n",
       "    }\n",
       "</style>\n",
       "\n",
       "\n",
       "\n",
       "    \n",
       "\n",
       "    \n",
       "\n",
       "    \n",
       "\n",
       "    \n",
       "\n",
       "    \n",
       "\n",
       "    \n",
       "\n",
       "\n",
       "    \n",
       "\n",
       "    \n",
       "\n",
       "    \n",
       "\n",
       "    \n",
       "\n",
       "    \n",
       "\n",
       "    \n",
       "\n",
       "\n",
       "    \n",
       "\n",
       "    \n",
       "\n",
       "    \n",
       "\n",
       "    \n",
       "\n",
       "    \n",
       "        <table class=\"eli5-weights eli5-feature-importances\" style=\"border-collapse: collapse; border: none; margin-top: 0em; table-layout: auto;\">\n",
       "    <thead>\n",
       "    <tr style=\"border: none;\">\n",
       "        <th style=\"padding: 0 1em 0 0.5em; text-align: right; border: none;\">Weight</th>\n",
       "        <th style=\"padding: 0 0.5em 0 0.5em; text-align: left; border: none;\">Feature</th>\n",
       "    </tr>\n",
       "    </thead>\n",
       "    <tbody>\n",
       "    \n",
       "        <tr style=\"background-color: hsl(120, 100.00%, 80.00%); border: none;\">\n",
       "            <td style=\"padding: 0 1em 0 0.5em; text-align: right; border: none;\">\n",
       "                0.6382\n",
       "                \n",
       "                    &plusmn; 0.7236\n",
       "                \n",
       "            </td>\n",
       "            <td style=\"padding: 0 0.5em 0 0.5em; text-align: left; border: none;\">\n",
       "                petal width (cm)\n",
       "            </td>\n",
       "        </tr>\n",
       "    \n",
       "        <tr style=\"background-color: hsl(120, 100.00%, 86.56%); border: none;\">\n",
       "            <td style=\"padding: 0 1em 0 0.5em; text-align: right; border: none;\">\n",
       "                0.3618\n",
       "                \n",
       "                    &plusmn; 0.7236\n",
       "                \n",
       "            </td>\n",
       "            <td style=\"padding: 0 0.5em 0 0.5em; text-align: left; border: none;\">\n",
       "                petal length (cm)\n",
       "            </td>\n",
       "        </tr>\n",
       "    \n",
       "        <tr style=\"background-color: hsl(0, 100.00%, 100.00%); border: none;\">\n",
       "            <td style=\"padding: 0 1em 0 0.5em; text-align: right; border: none;\">\n",
       "                0\n",
       "                \n",
       "                    &plusmn; 0.0000\n",
       "                \n",
       "            </td>\n",
       "            <td style=\"padding: 0 0.5em 0 0.5em; text-align: left; border: none;\">\n",
       "                sepal width (cm)\n",
       "            </td>\n",
       "        </tr>\n",
       "    \n",
       "        <tr style=\"background-color: hsl(0, 100.00%, 100.00%); border: none;\">\n",
       "            <td style=\"padding: 0 1em 0 0.5em; text-align: right; border: none;\">\n",
       "                0\n",
       "                \n",
       "                    &plusmn; 0.0000\n",
       "                \n",
       "            </td>\n",
       "            <td style=\"padding: 0 0.5em 0 0.5em; text-align: left; border: none;\">\n",
       "                sepal length (cm)\n",
       "            </td>\n",
       "        </tr>\n",
       "    \n",
       "    \n",
       "    </tbody>\n",
       "</table>\n",
       "    \n",
       "\n",
       "    \n",
       "\n",
       "\n",
       "    \n",
       "\n",
       "    \n",
       "\n",
       "    \n",
       "\n",
       "    \n",
       "\n",
       "    \n",
       "\n",
       "    \n",
       "\n",
       "\n",
       "\n"
      ],
      "text/plain": [
       "<IPython.core.display.HTML object>"
      ]
     },
     "execution_count": 17,
     "metadata": {},
     "output_type": "execute_result"
    }
   ],
   "source": [
    "from sklearn.ensemble import RandomForestClassifier\n",
    "from eli5 import show_weights\n",
    "m = RandomForestClassifier(n_estimators=2, max_depth = 3, random_state=2).fit(X_train, y_train)\n",
    "\n",
    "show_weights(m, feature_names=feature_names)"
   ]
  },
  {
   "cell_type": "code",
   "execution_count": 18,
   "id": "edb917f6-57a8-43a9-b998-f352bffff6c1",
   "metadata": {},
   "outputs": [],
   "source": [
    "from eli5.sklearn import explain_weights_sklearn\n",
    "from eli5.formatters import format_as_dataframe, format_as_dataframes\n",
    "\n",
    "explanation = explain_weights_sklearn(model, feature_names=feature_names)\n",
    "format_as_dataframe(explanation)"
   ]
  },
  {
   "cell_type": "code",
   "execution_count": 19,
   "id": "17587c33-d42f-4f61-90d1-e63c287447ef",
   "metadata": {},
   "outputs": [],
   "source": [
    "import eli5\n",
    "from sklearn.svm import SVC\n",
    "from eli5.sklearn import PermutationImportance\n",
    "from sklearn.feature_selection import SelectFromModel\n",
    "\n",
    "perm = PermutationImportance(model)\n",
    "perm.fit(X_train, y_train)\n",
    "\n",
    "sel = SelectFromModel(perm, threshold=0.05, prefit=True)\n",
    "X_trans = sel.transform(X_train)"
   ]
  },
  {
   "cell_type": "code",
   "execution_count": 20,
   "id": "725d799c-4486-46c1-8c22-a23e87a4229e",
   "metadata": {},
   "outputs": [
    {
     "data": {
      "text/plain": [
       "(120, 2)"
      ]
     },
     "execution_count": 20,
     "metadata": {},
     "output_type": "execute_result"
    }
   ],
   "source": [
    "X_trans.shape"
   ]
  },
  {
   "cell_type": "code",
   "execution_count": null,
   "id": "e6942a7f-76c5-4370-b75a-447b61fcbc90",
   "metadata": {},
   "outputs": [],
   "source": []
  }
 ],
 "metadata": {
  "kernelspec": {
   "display_name": "Python 3 (ipykernel)",
   "language": "python",
   "name": "python3"
  },
  "language_info": {
   "codemirror_mode": {
    "name": "ipython",
    "version": 3
   },
   "file_extension": ".py",
   "mimetype": "text/x-python",
   "name": "python",
   "nbconvert_exporter": "python",
   "pygments_lexer": "ipython3",
   "version": "3.8.8"
  }
 },
 "nbformat": 4,
 "nbformat_minor": 5
}
