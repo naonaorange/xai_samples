{
 "cells": [
  {
   "cell_type": "markdown",
   "id": "b94c9310-0339-4d8c-a291-4409b466eb26",
   "metadata": {},
   "source": [
    "# Permutaion Feature Importanceによる重要な特徴量の可視化"
   ]
  },
  {
   "cell_type": "code",
   "execution_count": 1,
   "id": "4f01f057-5c60-412d-9d32-6bf4f4996249",
   "metadata": {},
   "outputs": [],
   "source": [
    "import sklearn\n",
    "import numpy as np\n",
    "import pandas as pd\n",
    "import matplotlib.pyplot as plt"
   ]
  },
  {
   "cell_type": "markdown",
   "id": "970dba2c-9f0d-4cfa-80fa-383c6a774683",
   "metadata": {},
   "source": [
    "# データセットの取得"
   ]
  },
  {
   "cell_type": "code",
   "execution_count": 2,
   "id": "447ab3e3-b12e-4c53-bd9d-dcfcb7bac2c2",
   "metadata": {},
   "outputs": [
    {
     "name": "stdout",
     "output_type": "stream",
     "text": [
      "データセット内容の種類\n",
      "dict_keys(['data', 'target', 'frame', 'target_names', 'DESCR', 'feature_names', 'filename', 'data_module'])\n",
      "特徴量の種類\n",
      "['sepal length (cm)', 'sepal width (cm)', 'petal length (cm)', 'petal width (cm)']\n",
      "ラベルの種類\n",
      "['setosa' 'versicolor' 'virginica']\n",
      "X_train.shape =  (120, 4)\n",
      "y_train.shape =  (120,)\n",
      "X_test.shape =  (30, 4)\n",
      "y_test.shape =  (30,)\n"
     ]
    }
   ],
   "source": [
    "from sklearn.datasets import load_iris\n",
    "\n",
    "iris = load_iris()\n",
    "X = iris.data\n",
    "y = iris.target\n",
    "feature_names = iris['feature_names']\n",
    "target_names = iris.target_names\n",
    "\n",
    "print(\"データセット内容の種類\")\n",
    "print(iris.keys())\n",
    "print(\"特徴量の種類\")\n",
    "print(iris['feature_names'])\n",
    "print(\"ラベルの種類\")\n",
    "print(target_names)\n",
    "\n",
    "from sklearn.model_selection import train_test_split\n",
    "X_train, X_test, y_train, y_test = train_test_split(X, y, test_size=0.2, random_state=42)\n",
    "\n",
    "print('X_train.shape = ', X_train.shape)\n",
    "print('y_train.shape = ', y_train.shape)\n",
    "print('X_test.shape = ', X_test.shape)\n",
    "print('y_test.shape = ', y_test.shape)"
   ]
  },
  {
   "cell_type": "code",
   "execution_count": 3,
   "id": "1cf88910-f26b-4dd4-8a37-521ad9fd8f20",
   "metadata": {},
   "outputs": [
    {
     "data": {
      "image/png": "[encoded data removed]",
      "text/plain": [
       "<Figure size 1080x720 with 4 Axes>"
      ]
     },
     "metadata": {
      "needs_background": "light"
     },
     "output_type": "display_data"
    }
   ],
   "source": [
    "X_train_dataframe = pd.DataFrame(X_train, columns=iris.feature_names)\n",
    "\n",
    "y_label = []\n",
    "for i in y_train:\n",
    "    y_label.append(target_names[i])\n",
    "y_train_dataframe = pd.DataFrame(y_label, columns=['result'])\n",
    "\n",
    "train_dataframe = pd.concat([X_train_dataframe, y_train_dataframe], axis=1)\n",
    "\n",
    "import seaborn as sns\n",
    "\n",
    "fig = plt.figure(figsize=[15,10])\n",
    "for i, f in enumerate(iris['feature_names']):\n",
    "    fig.add_subplot(2, 2, i+1)\n",
    "    sns.barplot(y=f, x='result', data= train_dataframe)"
   ]
  },
  {
   "cell_type": "markdown",
   "id": "75522184-9f35-4ea4-9cd0-a53e01d6b261",
   "metadata": {},
   "source": [
    "# モデルの学習と評価"
   ]
  },
  {
   "cell_type": "code",
   "execution_count": 4,
   "id": "77bfdeb6-dfef-4443-aae6-5abcdc5ad2e4",
   "metadata": {},
   "outputs": [
    {
     "data": {
      "text/plain": [
       "0.9666666666666667"
      ]
     },
     "execution_count": 4,
     "metadata": {},
     "output_type": "execute_result"
    }
   ],
   "source": [
    "from sklearn.ensemble import RandomForestClassifier\n",
    "from sklearn.metrics import accuracy_score\n",
    "\n",
    "model = sklearn.ensemble.RandomForestClassifier(n_estimators=2, max_depth = 3, random_state=2)\n",
    "model.fit(X_train, y_train)\n",
    "\n",
    "accuracy_score(y_test, model.predict(X_test))"
   ]
  },
  {
   "cell_type": "code",
   "execution_count": null,
   "id": "5f094e6b-f3d3-43a9-8018-47e2e638539b",
   "metadata": {},
   "outputs": [],
   "source": []
  },
  {
   "cell_type": "code",
   "execution_count": 5,
   "id": "68bfe2a0-5bdc-494b-9841-a1894ba2c27b",
   "metadata": {},
   "outputs": [
    {
     "name": "stdout",
     "output_type": "stream",
     "text": [
      "target name = setosa\n"
     ]
    },
    {
     "data": {
      "text/html": [
       "<div>\n",
       "<style scoped>\n",
       "    .dataframe tbody tr th:only-of-type {\n",
       "        vertical-align: middle;\n",
       "    }\n",
       "\n",
       "    .dataframe tbody tr th {\n",
       "        vertical-align: top;\n",
       "    }\n",
       "\n",
       "    .dataframe thead th {\n",
       "        text-align: right;\n",
       "    }\n",
       "</style>\n",
       "<table border=\"1\" class=\"dataframe\">\n",
       "  <thead>\n",
       "    <tr style=\"text-align: right;\">\n",
       "      <th></th>\n",
       "      <th>sepal length (cm)</th>\n",
       "      <th>sepal width (cm)</th>\n",
       "      <th>petal length (cm)</th>\n",
       "      <th>petal width (cm)</th>\n",
       "    </tr>\n",
       "  </thead>\n",
       "  <tbody>\n",
       "    <tr>\n",
       "      <th>0</th>\n",
       "      <td>5.7</td>\n",
       "      <td>3.8</td>\n",
       "      <td>1.7</td>\n",
       "      <td>0.3</td>\n",
       "    </tr>\n",
       "  </tbody>\n",
       "</table>\n",
       "</div>"
      ],
      "text/plain": [
       "   sepal length (cm)  sepal width (cm)  petal length (cm)  petal width (cm)\n",
       "0                5.7               3.8                1.7               0.3"
      ]
     },
     "execution_count": 5,
     "metadata": {},
     "output_type": "execute_result"
    }
   ],
   "source": [
    "data_index = 1\n",
    "y_index = y_test[data_index]\n",
    "print('target name = ' + target_names[y_index])\n",
    "pd.DataFrame([X_test[data_index]], columns=feature_names)"
   ]
  },
  {
   "cell_type": "markdown",
   "id": "accd8ab5-4bc8-411d-84c5-6938e9fffc6a",
   "metadata": {},
   "source": [
    "# Permutaion Feature Importanceによる重要な特徴量の可視化\n",
    "\n",
    "各特徴量の要素をランダムに並べ替え予測結果の増加減から重要な特徴量を確認する\n",
    "\n",
    "重要な特徴量であれば予測結果に大きく影響を及ぼし、重要でない特徴量であれば影響が少ない"
   ]
  },
  {
   "cell_type": "code",
   "execution_count": 6,
   "id": "292265bf-e34d-4f53-81fe-a4f1e1cfb595",
   "metadata": {},
   "outputs": [],
   "source": [
    "from sklearn.inspection import permutation_importance\n",
    "\n",
    "pfi = permutation_importance(estimator=model,\n",
    "                             X=X_test,\n",
    "                             y=y_test,\n",
    "                             scoring='neg_root_mean_squared_error',\n",
    "                             n_repeats=5,\n",
    "                             n_jobs=-1,\n",
    "                             random_state=42)\n",
    "\n",
    "pfi_df = pd.DataFrame(data={'feature_names': feature_names, 'importance': pfi['importances_mean']})"
   ]
  },
  {
   "cell_type": "code",
   "execution_count": 7,
   "id": "2607e0ce-6759-4e1d-b773-8de72c6da687",
   "metadata": {},
   "outputs": [
    {
     "data": {
      "text/plain": [
       "<BarContainer object of 4 artists>"
      ]
     },
     "execution_count": 7,
     "metadata": {},
     "output_type": "execute_result"
    },
    {
     "data": {
      "image/png": "[encoded data removed]",
      "text/plain": [
       "<Figure size 720x360 with 1 Axes>"
      ]
     },
     "metadata": {
      "needs_background": "light"
     },
     "output_type": "display_data"
    }
   ],
   "source": [
    "fig = plt.figure(figsize=[10,5])\n",
    "plt.bar(pfi_df['feature_names'], pfi_df['importance'])"
   ]
  },
  {
   "cell_type": "markdown",
   "id": "c4c0ec98-f6ca-40b3-893d-ca2f5ec90a37",
   "metadata": {},
   "source": [
    "# Permutation Feature Importance手法の実装\n",
    "\n",
    "下記リポジトリを参考\n",
    "\n",
    "https://github.com/ghmagazine/ml_interpret_book/blob/main/ch3/ch3_Permutation_Feature_Importance.ipynb"
   ]
  },
  {
   "cell_type": "code",
   "execution_count": 8,
   "id": "63f69a5f-a3e7-453a-a576-1b9ba3248228",
   "metadata": {},
   "outputs": [],
   "source": [
    "from dataclasses import dataclass\n",
    "from typing import Any\n",
    "from __future__ import annotations\n",
    "from sklearn.metrics import mean_squared_error\n",
    "\n",
    "\n",
    "@dataclass\n",
    "class PermutationFeatureImportance:\n",
    "    \"\"\"Permutation Feature Importance (PFI)\n",
    "     \n",
    "    Args:\n",
    "        estimator: 全特徴量を用いた学習済みモデル\n",
    "        X: 特徴量\n",
    "        y: 目的変数\n",
    "        var_names: 特徴量の名前\n",
    "    \"\"\"\n",
    "    \n",
    "    estimator: Any\n",
    "    X: np.ndarray\n",
    "    y: np.ndarray\n",
    "    var_names: list[str]\n",
    "        \n",
    "    def __post_init__(self) -> None:\n",
    "        # シャッフルなしの場合の予測精度\n",
    "        # mean_squared_error()はsquared=TrueならMSE、squared=FalseならRMSE\n",
    "        self.baseline = mean_squared_error(\n",
    "            self.y, self.estimator.predict(self.X), squared=False\n",
    "        )\n",
    "\n",
    "    def _permutation_metrics(self, idx_to_permute: int) -> float:\n",
    "        \"\"\"ある特徴量の値をシャッフルしたときの予測精度を求める\n",
    "\n",
    "        Args:\n",
    "            idx_to_permute: シャッフルする特徴量のインデックス\n",
    "        \"\"\"\n",
    "\n",
    "        # シャッフルする際に、元の特徴量が上書きされないよう用にコピーしておく\n",
    "        X_permuted = self.X.copy()\n",
    "\n",
    "        # 特徴量の値をシャッフルして予測\n",
    "        X_permuted[:, idx_to_permute] = np.random.permutation(\n",
    "            X_permuted[:, idx_to_permute]\n",
    "        )\n",
    "        y_pred = self.estimator.predict(X_permuted)\n",
    "\n",
    "        return mean_squared_error(self.y, y_pred, squared=False)\n",
    "\n",
    "    def permutation_feature_importance(self, n_shuffle: int = 10) -> None:\n",
    "        \"\"\"PFIを求める\n",
    "\n",
    "        Args:\n",
    "            n_shuffle: シャッフルの回数。多いほど値が安定する。デフォルトは10回\n",
    "        \"\"\"\n",
    "\n",
    "        J = self.X.shape[1]  # 特徴量の数\n",
    "\n",
    "        # J個の特徴量に対してPFIを求めたい\n",
    "        # R回シャッフルを繰り返して平均をとることで値を安定させている\n",
    "        metrics_permuted = [\n",
    "            np.mean(\n",
    "                [self._permutation_metrics(j) for r in range(n_shuffle)]\n",
    "            )\n",
    "            for j in range(J)\n",
    "        ]\n",
    "\n",
    "        # データフレームとしてまとめる\n",
    "        # シャッフルでどのくらい予測精度が落ちるかは、\n",
    "        # 差(difference)と比率(ratio)の2種類を用意する\n",
    "        df_feature_importance = pd.DataFrame(\n",
    "            data={\n",
    "                \"var_name\": self.var_names,\n",
    "                \"baseline\": self.baseline,\n",
    "                \"permutation\": metrics_permuted,\n",
    "                \"difference\": metrics_permuted - self.baseline,\n",
    "                \"ratio\": metrics_permuted / self.baseline,\n",
    "            }\n",
    "        )\n",
    "\n",
    "        self.feature_importance = df_feature_importance.sort_values(\n",
    "            \"permutation\", ascending=False\n",
    "        )\n",
    "        \n",
    "    def plot(self, importance_type: str = \"difference\") -> None:\n",
    "        \"\"\"PFIを可視化\n",
    "\n",
    "        Args:\n",
    "            importance_type: PFIを差(difference)と比率(ratio)のどちらで計算するか\n",
    "        \"\"\"\n",
    "\n",
    "        fig, ax = plt.subplots()\n",
    "        ax.barh(\n",
    "            self.feature_importance[\"var_name\"],\n",
    "            self.feature_importance[importance_type],\n",
    "            label=f\"baseline: {self.baseline:.2f}\",\n",
    "        )\n",
    "        ax.set(xlabel=importance_type, ylabel=None)\n",
    "        ax.invert_yaxis() # 重要度が高い順に並び替える\n",
    "        ax.legend(loc=\"lower right\")\n",
    "        fig.suptitle(f\"Permutation Importance({importance_type})\")\n",
    "        \n",
    "        fig.show()"
   ]
  },
  {
   "cell_type": "code",
   "execution_count": 10,
   "id": "198ad565-62b9-484a-8546-0e43310b8f67",
   "metadata": {},
   "outputs": [
    {
     "name": "stderr",
     "output_type": "stream",
     "text": [
      "C:\\Users\\naolu\\AppData\\Local\\Temp/ipykernel_14212/577845289.py:101: UserWarning: Matplotlib is currently using module://matplotlib_inline.backend_inline, which is a non-GUI backend, so cannot show the figure.\n",
      "  fig.show()\n"
     ]
    },
    {
     "data": {
      "image/png": "[encoded data removed]",
      "text/plain": [
       "<Figure size 432x288 with 1 Axes>"
      ]
     },
     "metadata": {
      "needs_background": "light"
     },
     "output_type": "display_data"
    }
   ],
   "source": [
    "pfi = PermutationFeatureImportance(model, X_test, y_test, feature_names)\n",
    "pfi.permutation_feature_importance()\n",
    "\n",
    "# PFIを可視化\n",
    "pfi.plot(importance_type=\"difference\")"
   ]
  },
  {
   "cell_type": "code",
   "execution_count": null,
   "id": "376f04e5-cdff-4f65-aae9-a1beda11fd28",
   "metadata": {},
   "outputs": [],
   "source": []
  }
 ],
 "metadata": {
  "kernelspec": {
   "display_name": "Python 3 (ipykernel)",
   "language": "python",
   "name": "python3"
  },
  "language_info": {
   "codemirror_mode": {
    "name": "ipython",
    "version": 3
   },
   "file_extension": ".py",
   "mimetype": "text/x-python",
   "name": "python",
   "nbconvert_exporter": "python",
   "pygments_lexer": "ipython3",
   "version": "3.8.9"
  }
 },
 "nbformat": 4,
 "nbformat_minor": 5
}
